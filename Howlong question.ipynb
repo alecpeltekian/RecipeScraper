{
  "nbformat": 4,
  "nbformat_minor": 0,
  "metadata": {
    "colab": {
      "provenance": []
    },
    "kernelspec": {
      "name": "python3",
      "display_name": "Python 3"
    },
    "language_info": {
      "name": "python"
    }
  },
  "cells": [
    {
      "cell_type": "code",
      "execution_count": null,
      "metadata": {
        "colab": {
          "base_uri": "https://localhost:8080/"
        },
        "id": "MWbqzCJMqmt7",
        "outputId": "5cf23ee5-d469-4edd-d1c4-92f215fe1f8b"
      },
      "outputs": [
        {
          "output_type": "stream",
          "name": "stdout",
          "text": [
            "Looking in indexes: https://pypi.org/simple, https://us-python.pkg.dev/colab-wheels/public/simple/\n",
            "Collecting Recipe\n",
            "  Downloading recipe-0.32.1-py2.py3-none-any.whl (142 kB)\n",
            "\u001b[2K     \u001b[90m━━━━━━━━━━━━━━━━━━━━━━━━━━━━━━━━━━━━━━━\u001b[0m \u001b[32m143.0/143.0 KB\u001b[0m \u001b[31m2.1 MB/s\u001b[0m eta \u001b[36m0:00:00\u001b[0m\n",
            "\u001b[?25hCollecting faker\n",
            "  Downloading Faker-17.5.0-py3-none-any.whl (1.7 MB)\n",
            "\u001b[2K     \u001b[90m━━━━━━━━━━━━━━━━━━━━━━━━━━━━━━━━━━━━━━━━\u001b[0m \u001b[32m1.7/1.7 MB\u001b[0m \u001b[31m18.5 MB/s\u001b[0m eta \u001b[36m0:00:00\u001b[0m\n",
            "\u001b[?25hCollecting dateparser>=1.1.1\n",
            "  Downloading dateparser-1.1.7-py2.py3-none-any.whl (293 kB)\n",
            "\u001b[2K     \u001b[90m━━━━━━━━━━━━━━━━━━━━━━━━━━━━━━━━━━━━━━\u001b[0m \u001b[32m293.4/293.4 KB\u001b[0m \u001b[31m11.3 MB/s\u001b[0m eta \u001b[36m0:00:00\u001b[0m\n",
            "\u001b[?25hCollecting structlog\n",
            "  Downloading structlog-22.3.0-py3-none-any.whl (61 kB)\n",
            "\u001b[2K     \u001b[90m━━━━━━━━━━━━━━━━━━━━━━━━━━━━━━━━━━━━━━━━\u001b[0m \u001b[32m61.7/61.7 KB\u001b[0m \u001b[31m2.8 MB/s\u001b[0m eta \u001b[36m0:00:00\u001b[0m\n",
            "\u001b[?25hCollecting lark\n",
            "  Downloading lark-1.1.5-py3-none-any.whl (107 kB)\n",
            "\u001b[2K     \u001b[90m━━━━━━━━━━━━━━━━━━━━━━━━━━━━━━━━━━━━━━━\u001b[0m \u001b[32m108.0/108.0 KB\u001b[0m \u001b[31m4.7 MB/s\u001b[0m eta \u001b[36m0:00:00\u001b[0m\n",
            "\u001b[?25hRequirement already satisfied: pyyaml in /usr/local/lib/python3.8/dist-packages (from Recipe) (6.0)\n",
            "Requirement already satisfied: sqlparse in /usr/local/lib/python3.8/dist-packages (from Recipe) (0.4.3)\n",
            "Collecting tablib\n",
            "  Downloading tablib-3.3.0-py3-none-any.whl (48 kB)\n",
            "\u001b[2K     \u001b[90m━━━━━━━━━━━━━━━━━━━━━━━━━━━━━━━━━━━━━━━━\u001b[0m \u001b[32m48.6/48.6 KB\u001b[0m \u001b[31m2.2 MB/s\u001b[0m eta \u001b[36m0:00:00\u001b[0m\n",
            "\u001b[?25hCollecting sureberus\n",
            "  Downloading sureberus-0.15.0-py2.py3-none-any.whl (10 kB)\n",
            "Collecting stevedore\n",
            "  Downloading stevedore-5.0.0-py3-none-any.whl (49 kB)\n",
            "\u001b[2K     \u001b[90m━━━━━━━━━━━━━━━━━━━━━━━━━━━━━━━━━━━━━━━━\u001b[0m \u001b[32m49.6/49.6 KB\u001b[0m \u001b[31m1.7 MB/s\u001b[0m eta \u001b[36m0:00:00\u001b[0m\n",
            "\u001b[?25hCollecting sqlalchemy<1.4,>=1.2.2\n",
            "  Downloading SQLAlchemy-1.3.24-cp38-cp38-manylinux2010_x86_64.whl (1.3 MB)\n",
            "\u001b[2K     \u001b[90m━━━━━━━━━━━━━━━━━━━━━━━━━━━━━━━━━━━━━━━━\u001b[0m \u001b[32m1.3/1.3 MB\u001b[0m \u001b[31m10.6 MB/s\u001b[0m eta \u001b[36m0:00:00\u001b[0m\n",
            "\u001b[?25hRequirement already satisfied: attrs in /usr/local/lib/python3.8/dist-packages (from Recipe) (22.2.0)\n",
            "Requirement already satisfied: regex!=2019.02.19,!=2021.8.27 in /usr/local/lib/python3.8/dist-packages (from dateparser>=1.1.1->Recipe) (2022.6.2)\n",
            "Requirement already satisfied: python-dateutil in /usr/local/lib/python3.8/dist-packages (from dateparser>=1.1.1->Recipe) (2.8.2)\n",
            "Requirement already satisfied: pytz in /usr/local/lib/python3.8/dist-packages (from dateparser>=1.1.1->Recipe) (2022.7.1)\n",
            "Requirement already satisfied: tzlocal in /usr/local/lib/python3.8/dist-packages (from dateparser>=1.1.1->Recipe) (1.5.1)\n",
            "Collecting pbr!=2.1.0,>=2.0.0\n",
            "  Downloading pbr-5.11.1-py2.py3-none-any.whl (112 kB)\n",
            "\u001b[2K     \u001b[90m━━━━━━━━━━━━━━━━━━━━━━━━━━━━━━━━━━━━━━━\u001b[0m \u001b[32m112.7/112.7 KB\u001b[0m \u001b[31m2.4 MB/s\u001b[0m eta \u001b[36m0:00:00\u001b[0m\n",
            "\u001b[?25hRequirement already satisfied: six in /usr/local/lib/python3.8/dist-packages (from sureberus->Recipe) (1.15.0)\n",
            "Installing collected packages: lark, tablib, sureberus, structlog, sqlalchemy, pbr, stevedore, faker, dateparser, Recipe\n",
            "  Attempting uninstall: sqlalchemy\n",
            "    Found existing installation: SQLAlchemy 1.4.46\n",
            "    Uninstalling SQLAlchemy-1.4.46:\n",
            "      Successfully uninstalled SQLAlchemy-1.4.46\n",
            "Successfully installed Recipe-0.32.1 dateparser-1.1.7 faker-17.5.0 lark-1.1.5 pbr-5.11.1 sqlalchemy-1.3.24 stevedore-5.0.0 structlog-22.3.0 sureberus-0.15.0 tablib-3.3.0\n"
          ]
        }
      ],
      "source": [
        "!pip install Recipe"
      ]
    },
    {
      "cell_type": "code",
      "source": [
        "import spacy\n",
        "nlp=spacy.load(\"en_core_web_sm\")"
      ],
      "metadata": {
        "colab": {
          "base_uri": "https://localhost:8080/"
        },
        "id": "3fdaRHKQq5fu",
        "outputId": "5e2bd94f-eb13-42d9-a57d-b0cf04b174e5"
      },
      "execution_count": null,
      "outputs": [
        {
          "output_type": "stream",
          "name": "stderr",
          "text": [
            "/usr/local/lib/python3.8/dist-packages/torch/cuda/__init__.py:497: UserWarning: Can't initialize NVML\n",
            "  warnings.warn(\"Can't initialize NVML\")\n"
          ]
        }
      ]
    },
    {
      "cell_type": "code",
      "source": [
        "!pip install recipe-scrapers"
      ],
      "metadata": {
        "colab": {
          "base_uri": "https://localhost:8080/"
        },
        "id": "wi70E0X-rqQq",
        "outputId": "0897a10f-1ee8-4114-b9b4-50f0391ec053"
      },
      "execution_count": null,
      "outputs": [
        {
          "output_type": "stream",
          "name": "stdout",
          "text": [
            "Looking in indexes: https://pypi.org/simple, https://us-python.pkg.dev/colab-wheels/public/simple/\n",
            "Collecting recipe-scrapers\n",
            "  Downloading recipe_scrapers-14.32.1-py3-none-any.whl (158 kB)\n",
            "\u001b[2K     \u001b[90m━━━━━━━━━━━━━━━━━━━━━━━━━━━━━━━━━━━━━━━\u001b[0m \u001b[32m158.6/158.6 KB\u001b[0m \u001b[31m3.9 MB/s\u001b[0m eta \u001b[36m0:00:00\u001b[0m\n",
            "\u001b[?25hCollecting isodate>=0.6.1\n",
            "  Downloading isodate-0.6.1-py2.py3-none-any.whl (41 kB)\n",
            "\u001b[2K     \u001b[90m━━━━━━━━━━━━━━━━━━━━━━━━━━━━━━━━━━━━━━━━\u001b[0m \u001b[32m41.7/41.7 KB\u001b[0m \u001b[31m4.1 MB/s\u001b[0m eta \u001b[36m0:00:00\u001b[0m\n",
            "\u001b[?25hRequirement already satisfied: requests>=2.19.1 in /usr/local/lib/python3.8/dist-packages (from recipe-scrapers) (2.25.1)\n",
            "Collecting extruct>=0.8.0\n",
            "  Downloading extruct-0.14.0-py2.py3-none-any.whl (25 kB)\n",
            "Collecting beautifulsoup4>=4.10.0\n",
            "  Downloading beautifulsoup4-4.11.2-py3-none-any.whl (129 kB)\n",
            "\u001b[2K     \u001b[90m━━━━━━━━━━━━━━━━━━━━━━━━━━━━━━━━━━━━━━━\u001b[0m \u001b[32m129.4/129.4 KB\u001b[0m \u001b[31m9.8 MB/s\u001b[0m eta \u001b[36m0:00:00\u001b[0m\n",
            "\u001b[?25hCollecting soupsieve>1.2\n",
            "  Downloading soupsieve-2.4-py3-none-any.whl (37 kB)\n",
            "Collecting w3lib\n",
            "  Downloading w3lib-2.1.1-py3-none-any.whl (21 kB)\n",
            "Requirement already satisfied: lxml in /usr/local/lib/python3.8/dist-packages (from extruct>=0.8.0->recipe-scrapers) (4.9.2)\n",
            "Requirement already satisfied: six in /usr/local/lib/python3.8/dist-packages (from extruct>=0.8.0->recipe-scrapers) (1.15.0)\n",
            "Collecting rdflib>=6.0.0\n",
            "  Downloading rdflib-6.2.0-py3-none-any.whl (500 kB)\n",
            "\u001b[2K     \u001b[90m━━━━━━━━━━━━━━━━━━━━━━━━━━━━━━━━━━━━━━\u001b[0m \u001b[32m500.3/500.3 KB\u001b[0m \u001b[31m24.4 MB/s\u001b[0m eta \u001b[36m0:00:00\u001b[0m\n",
            "\u001b[?25hCollecting html-text>=0.5.1\n",
            "  Downloading html_text-0.5.2-py2.py3-none-any.whl (7.5 kB)\n",
            "Collecting mf2py\n",
            "  Downloading mf2py-1.1.2.tar.gz (25 kB)\n",
            "  Preparing metadata (setup.py) ... \u001b[?25l\u001b[?25hdone\n",
            "Collecting jstyleson\n",
            "  Downloading jstyleson-0.0.2.tar.gz (2.0 kB)\n",
            "  Preparing metadata (setup.py) ... \u001b[?25l\u001b[?25hdone\n",
            "Collecting pyrdfa3\n",
            "  Downloading pyRdfa3-3.5.3-py3-none-any.whl (121 kB)\n",
            "\u001b[2K     \u001b[90m━━━━━━━━━━━━━━━━━━━━━━━━━━━━━━━━━━━━━━\u001b[0m \u001b[32m121.9/121.9 KB\u001b[0m \u001b[31m14.1 MB/s\u001b[0m eta \u001b[36m0:00:00\u001b[0m\n",
            "\u001b[?25hRequirement already satisfied: chardet<5,>=3.0.2 in /usr/local/lib/python3.8/dist-packages (from requests>=2.19.1->recipe-scrapers) (4.0.0)\n",
            "Requirement already satisfied: urllib3<1.27,>=1.21.1 in /usr/local/lib/python3.8/dist-packages (from requests>=2.19.1->recipe-scrapers) (1.26.14)\n",
            "Requirement already satisfied: certifi>=2017.4.17 in /usr/local/lib/python3.8/dist-packages (from requests>=2.19.1->recipe-scrapers) (2022.12.7)\n",
            "Requirement already satisfied: idna<3,>=2.5 in /usr/local/lib/python3.8/dist-packages (from requests>=2.19.1->recipe-scrapers) (2.10)\n",
            "Requirement already satisfied: pyparsing in /usr/local/lib/python3.8/dist-packages (from rdflib>=6.0.0->extruct>=0.8.0->recipe-scrapers) (3.0.9)\n",
            "Requirement already satisfied: setuptools in /usr/local/lib/python3.8/dist-packages (from rdflib>=6.0.0->extruct>=0.8.0->recipe-scrapers) (57.4.0)\n",
            "Requirement already satisfied: html5lib>=1.0.1 in /usr/local/lib/python3.8/dist-packages (from mf2py->extruct>=0.8.0->recipe-scrapers) (1.0.1)\n",
            "Requirement already satisfied: webencodings in /usr/local/lib/python3.8/dist-packages (from html5lib>=1.0.1->mf2py->extruct>=0.8.0->recipe-scrapers) (0.5.1)\n",
            "Building wheels for collected packages: jstyleson, mf2py\n",
            "  Building wheel for jstyleson (setup.py) ... \u001b[?25l\u001b[?25hdone\n",
            "  Created wheel for jstyleson: filename=jstyleson-0.0.2-py3-none-any.whl size=2401 sha256=dee47cdf28f904533ddc960240c32086244b71b807323f872e2319877f9ad412\n",
            "  Stored in directory: /root/.cache/pip/wheels/c6/3a/8e/dad087c08bb0e4c94d03433ccc0972ee29707dff8e6c5f5e1b\n",
            "  Building wheel for mf2py (setup.py) ... \u001b[?25l\u001b[?25hdone\n",
            "  Created wheel for mf2py: filename=mf2py-1.1.2-py3-none-any.whl size=23242 sha256=81df2fda8522959bb637f4014ce9e6c90d7401e520c013f67289f3d02509d4aa\n",
            "  Stored in directory: /root/.cache/pip/wheels/34/86/25/8b1eee6d115e532e416f508dee0758d2093c9beb7923682924\n",
            "Successfully built jstyleson mf2py\n",
            "Installing collected packages: jstyleson, w3lib, soupsieve, isodate, html-text, rdflib, beautifulsoup4, pyrdfa3, mf2py, extruct, recipe-scrapers\n",
            "  Attempting uninstall: beautifulsoup4\n",
            "    Found existing installation: beautifulsoup4 4.6.3\n",
            "    Uninstalling beautifulsoup4-4.6.3:\n",
            "      Successfully uninstalled beautifulsoup4-4.6.3\n",
            "Successfully installed beautifulsoup4-4.11.2 extruct-0.14.0 html-text-0.5.2 isodate-0.6.1 jstyleson-0.0.2 mf2py-1.1.2 pyrdfa3-3.5.3 rdflib-6.2.0 recipe-scrapers-14.32.1 soupsieve-2.4 w3lib-2.1.1\n"
          ]
        }
      ]
    },
    {
      "cell_type": "code",
      "source": [
        "from recipe_scrapers import scrape_me\n",
        "\n",
        "\n",
        "print(\"Welcome to The Interactive Cookbook. Provide a valid Allrecipes.com url/\"\n",
        "      \"of recipe of your choice or type 'exit' to cancel. \")\n",
        "req_url = (input(\"Enter recipe URL : \"))"
      ],
      "metadata": {
        "colab": {
          "base_uri": "https://localhost:8080/"
        },
        "id": "CXt-XqVNrwR1",
        "outputId": "2dc55f8e-c9ad-4f83-a821-1af25badcea0"
      },
      "execution_count": null,
      "outputs": [
        {
          "name": "stdout",
          "output_type": "stream",
          "text": [
            "Welcome to The Interactive Cookbook. Provide a valid Allrecipes.com url/of recipe of your choice or type 'exit' to cancel. \n",
            "Enter recipe URL : https://www.indianhealthyrecipes.com/matar-paneer-mutter-masala/\n"
          ]
        }
      ]
    },
    {
      "cell_type": "code",
      "source": [
        "scraper = scrape_me(req_url)\n",
        "\n",
        "print(scraper.ingredients())"
      ],
      "metadata": {
        "colab": {
          "base_uri": "https://localhost:8080/"
        },
        "id": "7k24O7Ofr4A5",
        "outputId": "4352f0ca-c9af-4036-a03f-bea5b509c4c9"
      },
      "execution_count": null,
      "outputs": [
        {
          "output_type": "stream",
          "name": "stdout",
          "text": [
            "['1 tablespoon oil', \"1 to 2 green cardamoms ((optional, skip if you don't like))\", '3 garlic ((cloves ))', '1 inch ginger (chopped)', '1 cup onions (cubed (1 large or 2 medium))', '1½ cup tomatoes ((2 large) chopped)', '12 cashewnuts ((or almonds, soaked for 2 hours and blanched))', '½ teaspoon salt', '¼ to ⅓ cup curd ((yogurt, optional, refer notes))', '2 tablespoon oil (or ghee)', '1 inch cinnamon ((dalchini) (optional))', '1 small bay leaf ((optional))', '¼ teaspoon turmeric', '¾ to 1 teaspoon Kashmiri red chili powder ((adjust to taste))', '¾ to 1 teaspoon garam masala ((adjust to taste))', '½ to ¾ teaspoon coriander powder', '1 teaspoon sugar', '1 cup green peas ((matar) (boiled or frozen))', '1 to 1 ¼ cup water ((use more if needed))', '1 green chili (deseeded & slit (optional))', '250 grams paneer ((indian cottage cheese))', '1 teaspoon kasuri methi ( (dried fenugreek leaves))', '¼ teaspoon salt ( as needed (about ¼ to ½ tsp))', '2 tablespoon coriander leaves ((cilantro))', '3 to 4 tablespoon cream ((optional))']\n"
          ]
        }
      ]
    },
    {
      "cell_type": "code",
      "source": [
        "instructions = scraper.instructions()\n",
        "steps = instructions.split(\".\") "
      ],
      "metadata": {
        "id": "jZFq0GMpsP-q"
      },
      "execution_count": null,
      "outputs": []
    },
    {
      "cell_type": "code",
      "source": [],
      "metadata": {
        "id": "n2QEoOu2voTG"
      },
      "execution_count": null,
      "outputs": []
    },
    {
      "cell_type": "code",
      "source": [
        "test_list=[\"aerate\",\n",
        "           \"bake\",\n",
        "           \"barbecue\",\n",
        "           \"batter\",\n",
        "           \"beat\",\n",
        "           \"bind\",\n",
        "           \"blacken\",\n",
        "            \"blanch\",\n",
        "            \"blend\",\n",
        "            \"boil\",\n",
        "            \"braise\",\n",
        "            \"brew\",\n",
        "            \"bread\",\n",
        "            \"burn\",\n",
        "            \"brush\",\n",
        "            \"broil\",\n",
        "            \"can\",\n",
        "            \"caramelize\",\n",
        "            \"chill\",\n",
        "            \"chop\",\n",
        "            \"chunk\",\n",
        "            \"coddle\",\n",
        "            \"combine\",\n",
        "            \"churn\",\n",
        "            \"cured\",\n",
        "            \"cut\",\n",
        "            \"defrost\",\n",
        "            \"dice\",\n",
        "            \"dip\",\n",
        "            \"drizzle\",\n",
        "            \"dough\",\n",
        "            \"drain\",\n",
        "            \"ferment\",\n",
        "            \"dry\",\n",
        "            \"freeze\",\n",
        "            \"fold\",\n",
        "            \"filter\",\n",
        "            \"fillet\",\n",
        "            \"flavor\",\n",
        "            \"flip\",\n",
        "            \"frost\",\n",
        "            \"froth\",\n",
        "            \"fry\",\n",
        "            \"garnish\",\n",
        "            \"glaze\",\n",
        "            \"gel\",\n",
        "            \"grate\",\n",
        "            \"grind\",\n",
        "            \"grill\",\n",
        "            \"grease\",\n",
        "            \"hard boil\",\n",
        "            \"deep fry\",\n",
        "            \"shallow fry\",\n",
        "            \"ice\",\n",
        "            \"infuse\",\n",
        "            \"heat\",\n",
        "            \"jell\",\n",
        "            \"juice\",\n",
        "            \"knead\",\n",
        "            \"layer\",\n",
        "            \"marinate\",\n",
        "            \"mash\",\n",
        "            \"measure\",\n",
        "            \"microwave\",\n",
        "            \"melt\",\n",
        "            \"mold\",\n",
        "            \"oil\",\n",
        "            \"mix\",\n",
        "            \"over fry\",\n",
        "            \"pan fry\",\n",
        "            \"peel\",\n",
        "            \"pop\",\n",
        "            \"pour\",\n",
        "            \"precook\",\n",
        "            \"prepare\",\n",
        "            \"preserve\",\n",
        "            \"press\",\n",
        "            \"roll\",\n",
        "            \"cook\",\n",
        "            \"rub\",\n",
        "            \"saute\",\n",
        "            \"process\",\n",
        "            \"pulp\",\n",
        "            \"puree\",\n",
        "            \"scoop\",\n",
        "            \"scramble\",\n",
        "            \"reduce\",\n",
        "            \"refrigrate\",\n",
        "            \"rise\",\n",
        "            \"roast\",\n",
        "            \"raw\",\n",
        "            \"sliced\",\n",
        "            \"minced\",\n",
        "            \"separate\",\n",
        "            \"soak\",\n",
        "            \"simmer\",\n",
        "            \"slow cook\",\n",
        "            \"smoke\",\n",
        "            \"stir fry\",\n",
        "            \"steam\",\n",
        "            \"strain\",\n",
        "            \"temper\",\n",
        "            \"sweeten\",\n",
        "            \"thicken\",\n",
        "            \"thin\",\n",
        "            \"top\",\n",
        "            \"toast\",\n",
        "            \"toss\",\n",
        "            \"turn\",\n",
        "            \"trim\",\n",
        "            \"warm\",\n",
        "            \"whisk\",\n",
        "            \"wash\",\n",
        "            \"whip\",\n",
        "            \"unmold\",\n",
        "            \"pressure cook\",\n",
        "            \"preheat\",\n",
        "            \"shake\",\n",
        "            \"spread\",\n",
        "            \"sprinkle\",\n",
        "            \"stir\",\n",
        "            \"evaporate\",\n",
        "            \"evaporated\"]"
      ],
      "metadata": {
        "id": "D-z0ixhzoypw"
      },
      "execution_count": null,
      "outputs": []
    },
    {
      "cell_type": "code",
      "source": [
        "from recipe import *\n",
        "\n",
        "def list_navigation(list):\n",
        "    index = 0\n",
        "    for _ in list:\n",
        "        print(\"Below are the list of instructions to create your choice of food\")\n",
        "        print(\"1. Choose next step\")\n",
        "        print(\"2. Go back to previous step\")\n",
        "        print(\"3. Repeat step\")\n",
        "        print(f\"{list[index]} ({index + 1} of {len(list)})\")\n",
        "        p=list[index]\n",
        "        q=list[index]\n",
        "        t=nlp(list[index])\n",
        "        question=input(\"Enter your question here:   \")\n",
        "        if'How long' in question:\n",
        "          question=question.split(\" \")\n",
        "          flag1=0\n",
        "          for i in question:\n",
        "            for j in test_list:\n",
        "              if i==j:\n",
        "                s=i\n",
        "                flag1=1\n",
        "                break\n",
        "          \n",
        "          if flag1==1:\n",
        "            print(\"String contains the list element\",s)\n",
        "          else:\n",
        "            print(\"String does not contains the list element\")\n",
        "\n",
        "          p=p.lower()\n",
        "          flag=False\n",
        "          flagp=0\n",
        "          tok_dummy = ''\n",
        "          if s in p:\n",
        "            doc2=nlp(p)\n",
        "            for token in doc2:\n",
        "              if flag:\n",
        "                flag = False\n",
        "      \n",
        "                if(token.text == 'minutes' or token.text == 'min' or token.tag_=='NNS' or token.text=='hour' or token.text=='hr' or token.text=='seconds' or token.text=='secs'):\n",
        "                  print(tok_dummy, token.text)\n",
        "                  flagp=1\n",
        "                  break\n",
        "                  #print(token.text)\n",
        "\n",
        "              if token.tag_=='CD':\n",
        "                tok_dummy = token.text\n",
        "                #print(token.text)\n",
        "                flag = True\n",
        "                #print(token.text, token.lemma_, token.pos_, token.tag_, token.dep_,\n",
        "                #token.shape_, token.is_alpha, token.is_stop)\n",
        "\n",
        "          if flagp==0:\n",
        "            string4 = q[q.find('until'):].strip()\n",
        "            print(string4) \n",
        "\n",
        "        \n",
        "            \n",
        "\n",
        "        \n",
        "        choice = input(\"Enter your choice: \")\n",
        "        if choice == \"1\" and index < len(list) - 1:\n",
        "            index += 1\n",
        "            \n",
        "\n",
        "        elif choice == \"2\" and index > 0:\n",
        "            index -= 1\n",
        "        elif choice == \"3\":\n",
        "            pass\n",
        "        else:\n",
        "            print(\"Invalid input. Please choose 1, 2, or 3.\")\n",
        "        if index == len(list):\n",
        "            break\n",
        "\n",
        "        \n",
        "\n",
        "\n",
        "list_navigation(steps)"
      ],
      "metadata": {
        "colab": {
          "base_uri": "https://localhost:8080/",
          "height": 1000
        },
        "id": "a4m1HFwPsBFF",
        "outputId": "35c15d14-d337-4765-88b8-070abd84d60d"
      },
      "execution_count": null,
      "outputs": [
        {
          "output_type": "stream",
          "name": "stdout",
          "text": [
            "Below are the list of instructions to create your choice of food\n",
            "1. Choose next step\n",
            "2. Go back to previous step\n",
            "3. Repeat step\n",
            "Preparation\n",
            "If using store bought paneer, soak it in a bowl of hot water for 20 mins (1 of 68)\n",
            "Enter your question here:   How long to soak paneer in water?\n",
            "String contains the list element soak\n",
            "20 mins\n",
            "Enter your choice: 1\n",
            "Below are the list of instructions to create your choice of food\n",
            "1. Choose next step\n",
            "2. Go back to previous step\n",
            "3. Repeat step\n",
            " Drain the water and use (2 of 68)\n",
            "Enter your question here:   none\n",
            "Enter your choice: 1\n",
            "Below are the list of instructions to create your choice of food\n",
            "1. Choose next step\n",
            "2. Go back to previous step\n",
            "3. Repeat step\n",
            " This step helps to keep the paneer soft (3 of 68)\n",
            "Enter your question here:   none\n",
            "Enter your choice: 1\n",
            "Below are the list of instructions to create your choice of food\n",
            "1. Choose next step\n",
            "2. Go back to previous step\n",
            "3. Repeat step\n",
            "\n",
            "Pour 1 tbsp oil to a hot pan (4 of 68)\n",
            "Enter your question here:   none\n",
            "Enter your choice: 1\n",
            "Below are the list of instructions to create your choice of food\n",
            "1. Choose next step\n",
            "2. Go back to previous step\n",
            "3. Repeat step\n",
            " When the oil turns hot, add 1 to 2 green cardamoms (optional), ginger & garlic (5 of 68)\n",
            "Enter your question here:   none\n",
            "Enter your choice: 1\n",
            "Below are the list of instructions to create your choice of food\n",
            "1. Choose next step\n",
            "2. Go back to previous step\n",
            "3. Repeat step\n",
            "\n",
            "Fry for a minute (6 of 68)\n",
            "Enter your question here:   none\n",
            "Enter your choice: 1\n",
            "Below are the list of instructions to create your choice of food\n",
            "1. Choose next step\n",
            "2. Go back to previous step\n",
            "3. Repeat step\n",
            " Next add 1 cup chopped onions & saute until they turn light golden (7 of 68)\n",
            "Enter your question here:   How long to saute onions?\n",
            "String contains the list element saute\n",
            "until they turn light golden\n"
          ]
        },
        {
          "output_type": "error",
          "ename": "KeyboardInterrupt",
          "evalue": "ignored",
          "traceback": [
            "\u001b[0;31m---------------------------------------------------------------------------\u001b[0m",
            "\u001b[0;31mKeyboardInterrupt\u001b[0m                         Traceback (most recent call last)",
            "\u001b[0;32m<ipython-input-10-f95024964ebf>\u001b[0m in \u001b[0;36m<module>\u001b[0;34m\u001b[0m\n\u001b[1;32m     76\u001b[0m \u001b[0;34m\u001b[0m\u001b[0m\n\u001b[1;32m     77\u001b[0m \u001b[0;34m\u001b[0m\u001b[0m\n\u001b[0;32m---> 78\u001b[0;31m \u001b[0mlist_navigation\u001b[0m\u001b[0;34m(\u001b[0m\u001b[0msteps\u001b[0m\u001b[0;34m)\u001b[0m\u001b[0;34m\u001b[0m\u001b[0;34m\u001b[0m\u001b[0m\n\u001b[0m",
            "\u001b[0;32m<ipython-input-10-f95024964ebf>\u001b[0m in \u001b[0;36mlist_navigation\u001b[0;34m(list)\u001b[0m\n\u001b[1;32m     59\u001b[0m \u001b[0;34m\u001b[0m\u001b[0m\n\u001b[1;32m     60\u001b[0m \u001b[0;34m\u001b[0m\u001b[0m\n\u001b[0;32m---> 61\u001b[0;31m         \u001b[0mchoice\u001b[0m \u001b[0;34m=\u001b[0m \u001b[0minput\u001b[0m\u001b[0;34m(\u001b[0m\u001b[0;34m\"Enter your choice: \"\u001b[0m\u001b[0;34m)\u001b[0m\u001b[0;34m\u001b[0m\u001b[0;34m\u001b[0m\u001b[0m\n\u001b[0m\u001b[1;32m     62\u001b[0m         \u001b[0;32mif\u001b[0m \u001b[0mchoice\u001b[0m \u001b[0;34m==\u001b[0m \u001b[0;34m\"1\"\u001b[0m \u001b[0;32mand\u001b[0m \u001b[0mindex\u001b[0m \u001b[0;34m<\u001b[0m \u001b[0mlen\u001b[0m\u001b[0;34m(\u001b[0m\u001b[0mlist\u001b[0m\u001b[0;34m)\u001b[0m \u001b[0;34m-\u001b[0m \u001b[0;36m1\u001b[0m\u001b[0;34m:\u001b[0m\u001b[0;34m\u001b[0m\u001b[0;34m\u001b[0m\u001b[0m\n\u001b[1;32m     63\u001b[0m             \u001b[0mindex\u001b[0m \u001b[0;34m+=\u001b[0m \u001b[0;36m1\u001b[0m\u001b[0;34m\u001b[0m\u001b[0;34m\u001b[0m\u001b[0m\n",
            "\u001b[0;32m/usr/local/lib/python3.8/dist-packages/ipykernel/kernelbase.py\u001b[0m in \u001b[0;36mraw_input\u001b[0;34m(self, prompt)\u001b[0m\n\u001b[1;32m    858\u001b[0m                 \u001b[0;34m\"raw_input was called, but this frontend does not support input requests.\"\u001b[0m\u001b[0;34m\u001b[0m\u001b[0;34m\u001b[0m\u001b[0m\n\u001b[1;32m    859\u001b[0m             )\n\u001b[0;32m--> 860\u001b[0;31m         return self._input_request(str(prompt),\n\u001b[0m\u001b[1;32m    861\u001b[0m             \u001b[0mself\u001b[0m\u001b[0;34m.\u001b[0m\u001b[0m_parent_ident\u001b[0m\u001b[0;34m,\u001b[0m\u001b[0;34m\u001b[0m\u001b[0;34m\u001b[0m\u001b[0m\n\u001b[1;32m    862\u001b[0m             \u001b[0mself\u001b[0m\u001b[0;34m.\u001b[0m\u001b[0m_parent_header\u001b[0m\u001b[0;34m,\u001b[0m\u001b[0;34m\u001b[0m\u001b[0;34m\u001b[0m\u001b[0m\n",
            "\u001b[0;32m/usr/local/lib/python3.8/dist-packages/ipykernel/kernelbase.py\u001b[0m in \u001b[0;36m_input_request\u001b[0;34m(self, prompt, ident, parent, password)\u001b[0m\n\u001b[1;32m    902\u001b[0m             \u001b[0;32mexcept\u001b[0m \u001b[0mKeyboardInterrupt\u001b[0m\u001b[0;34m:\u001b[0m\u001b[0;34m\u001b[0m\u001b[0;34m\u001b[0m\u001b[0m\n\u001b[1;32m    903\u001b[0m                 \u001b[0;31m# re-raise KeyboardInterrupt, to truncate traceback\u001b[0m\u001b[0;34m\u001b[0m\u001b[0;34m\u001b[0m\u001b[0;34m\u001b[0m\u001b[0m\n\u001b[0;32m--> 904\u001b[0;31m                 \u001b[0;32mraise\u001b[0m \u001b[0mKeyboardInterrupt\u001b[0m\u001b[0;34m(\u001b[0m\u001b[0;34m\"Interrupted by user\"\u001b[0m\u001b[0;34m)\u001b[0m \u001b[0;32mfrom\u001b[0m \u001b[0;32mNone\u001b[0m\u001b[0;34m\u001b[0m\u001b[0;34m\u001b[0m\u001b[0m\n\u001b[0m\u001b[1;32m    905\u001b[0m             \u001b[0;32mexcept\u001b[0m \u001b[0mException\u001b[0m \u001b[0;32mas\u001b[0m \u001b[0me\u001b[0m\u001b[0;34m:\u001b[0m\u001b[0;34m\u001b[0m\u001b[0;34m\u001b[0m\u001b[0m\n\u001b[1;32m    906\u001b[0m                 \u001b[0mself\u001b[0m\u001b[0;34m.\u001b[0m\u001b[0mlog\u001b[0m\u001b[0;34m.\u001b[0m\u001b[0mwarning\u001b[0m\u001b[0;34m(\u001b[0m\u001b[0;34m\"Invalid Message:\"\u001b[0m\u001b[0;34m,\u001b[0m \u001b[0mexc_info\u001b[0m\u001b[0;34m=\u001b[0m\u001b[0;32mTrue\u001b[0m\u001b[0;34m)\u001b[0m\u001b[0;34m\u001b[0m\u001b[0;34m\u001b[0m\u001b[0m\n",
            "\u001b[0;31mKeyboardInterrupt\u001b[0m: Interrupted by user"
          ]
        }
      ]
    },
    {
      "cell_type": "code",
      "source": [],
      "metadata": {
        "id": "eIsZCe5tsKIX"
      },
      "execution_count": null,
      "outputs": []
    }
  ]
}